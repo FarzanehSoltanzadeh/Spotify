{
 "cells": [
  {
   "cell_type": "markdown",
   "metadata": {},
   "source": [
    "💭 **Entity Relationship Diagram:** [Spotify Diagram](https://viewer.diagrams.net/?tags=%7B%7D&highlight=0000ff&edit=_blank&layers=1&nav=1#R7V3bcps6FP0az6QP7nAxGD86l6aZSdM0SdvT8%2BKRQbbVYMQRIrH79UcCYXNzTAyOiau%2B1NoghNZeWtq6kY5%2BNl9cEuDPvmAHuh1NcRYd%2FbyjaZpq9dh%2F3LKMLQPFig1TgpzYpK4N9%2BgPFEZFWEPkwCBzI8XYpcjPGm3sedCmGRsgBD9nb5tgN1uqD6awYLi3gVu0%2FkQOncVWS%2Buv7Z8hms6SklVzEF%2BZg%2BRmUZNgBhz8nDLpFx39jGBM41%2FzxRl0OXgJLnG%2BTxuurl6MQI9WyXAP6Jefg%2BGP31f%2F3qpX%2BPGbO7G74ilPwA1Fhc9w6FGCGObxW9NlAkXwjOYu8Fjq1J4h17kGSxzyogMK7MckdTrDBP3BHgUuu6QyA7tMqPCsoWTuuOc5mZlbCSvYgY7INGHXRR61l6TFuyjRQwl%2BXLlE4%2FlhwO6%2FTfBQVqZrENDkVRIf8KsOCGZReTwBXDT12G%2Bb5YaEG4gtyufFP88Qhfc%2BsLnhmVGdV4POkypOkOueYReTCCndAdCa2Ku3TF0xbQuOJ%2BxK0XuJKyChcJEyCW9eQjyHlCzZLeJq1%2BgJaom21TONOP28ZqpqintmKZYOhA2IxjFdPXvNH%2FZDUOgVdNIKdOpopkuF%2F6JmmkBh%2Fhdy5jMg9MlEUSwlbTKn%2FH8UYO3k7PPwjmXUPiRPYi8WPyy%2BKTGPSWKJGbw8%2BTG8SzIrHwpsThzuwgkteMrDEc3TbhWmgHEAedPrKNd5L8dUzkPuQMQEZCgKoNhPqAjGK%2F4STAFNpRkTEpKmeFVkyYuteDt1BFMMpRpRevsiil4gyjlA7nL0gP2RpigFb0ntqaw9BrScXpn2WNpYN82GtEdXctpTlVKqti9O9XYSH4X9s%2B2i%2BFDC6DFCTkpGdKO6CNUp2o4FbPRq%2FUu1mOSZY0wcSLqi%2FGGEDznpdtP2D%2FFjcm%2FhAApPzocPFx%2BKtfNxgCjC3snVzcNxS6teuWW8Ulr7%2B2oGRqEZPERU%2FhIGyJbCurOwTibQtEuDOqc%2FGCvKnoTVGFQM6jRzX4wy31BYiwqa07tHuBSqE19mquGVKl%2Bx5K1ZIkJ0g5gRXCt9Ajc9Ccw5Xbxx4O%2BW3lzb%2BPVeNM%2FZOPvk9OvX64vhTeuQqFUzF4eOB4Pg5NP11%2BHhvVyrLhTOfXwMFXFCAnh3P5oHsu1RNIejgHUsgIYEthKPes4Gng3BGLmILvdIXtYf0m7c6fLaeVh0wPWg4gGtC%2FxgjVkAydN%2BWsUGM%2FQgmUrkdjAHPoQsCG2R%2FDfasAAb1wVs%2FNLWyr2piiKPhdHhHPIBQ4sd%2FqaYuOgJum2if63asOECZD3JqipHPElgVB7lvXKSYLUM1viYrr9hluDKm2A5SbD7JIFlw%2FJJgrFl9IymJgm03ByBVpVPe5t8tRpd%2Bak5R1Cl6E3TE4yxKKCvnfjdKLe7z79uUdtmppqn0COQV1YMYzb2Z41WLQjH%2BYJzdQLuOJzvPvt%2Bi%2F3QBWS%2FI5j2BRAPiLowBZmqKO%2Bs5q8bP7SuTm2sQy1GXSx8F9mI7nWysfnXBoGdLJyp7%2BSV76ALQQBHxWW31rG8Wc2KunovnI8hOf7lxH7lUO%2BVIwV1b%2BuJg0Jkd8n7bjlIqLGSONE2rCSaY9NoaIuGkR0jrIaSB9sclrxAQ2OELRHkhlgxzuWBeTpOMo5bdAaVqdOW7WFqcV%2FqvRgzSN3ZWXeg6hiwX6Y7A7Ovg6a2hmlWTnnMEjpZb6o8WqPKs2n4unVYusqY0x%2F9yAVIbWSDahll9qdAxU0vcaR6vSRyG1UNERorUIdmmQgp0FIsqxkRyu%2BiKot%2BVvuMM9vyjL0xqjjlXkWE9rQ%2F1Rs9Y%2BK0YztHrfFjsAz%2FzCAdeZjMW1Gbg46mx0z72wNFvTmcCfK89tTloG71iN0eJJporsewwM3bWiscclBqRs1UwsBaqAQBeNPVJO5fDQMbYCEfpE7I%2FMVoOCiYhgGVQEwgaEfjqFWL31ievzgNQHxI4T0CUa%2FiIfEJCtq57f1tjwEQKWr8MXDK%2BrknSQhxJlYiIcLAeLzajmFea6JBCUo2KJR4pGJDCcY6xJRYZCNNiUcuAJWApONQiUYuHJWA5KJSCUghONUkHCXRqUSlkw1PJSCdVHwq0eisA1QJRicboUpAOrkQVSLSSceoEo5OLkiViHRyUapEJM2RMZ6Ofh%2FBuuHKxS2q0EE9fAqW8H2uIDYKw01C9BiPtn7U7o0xCSkBroRkbb5N5OMIMTncgfF34%2F7VvuaRF7eN42JAfVhWq89rXI75QJFZ%2BUDI5gNF5ec%2FlAbOf3zzB9%2FM7zez4Lu6eLTOLm8WxnlX1Qsugc4UJgd3MKEzPMUecC%2FW1tTBH47Z%2Bp5rzEGOIPsNKV0Kf4CQ4iygcIHoPzz7R0OkfomH8d%2Fni3RimST418dTmXjyV%2FI8nlhni1LrfM6Q%2F8kVlry4Y%2Bx5wF%2BAt4wvfEIcrei2GAZe95TjSs%2F7BDgkNnyJB%2BKzQxSQKXyJMFY5OQh0o%2BAjU2rzJ3%2BKH0caRl8ZksfI6pyhn0SHxQrHyHRTH%2BhOqZbU%2FtCWpR%2F8EH3xcwxJ37DLUdYtX7vaepxe5P%2FbzrNalYl0gBP1pb2PdsjOJ%2FkddT0ftaQn2tL7dJWPirLqc%2BK8urm9E2KpW0gQw42rzIF6Jq1ix9R7o46plBS9g0YkGVJU5ESODpqxlQ1v7fiqEclBHW%2B0Rw1qiIFpbXf%2Fy2IgOpm9kcFsWXhaSgazNWSoOirRMsMSpXUaoFZV%2F%2F4h%2Fd5vz3hUrer5gd5Luz6rCu2OCFTlPZAioW4L1KBq16B0sr2C0m95r1A1RFD3xASWXP%2FZ2eha6o%2F36hf%2FAw%3D%3D)"
   ]
  },
  {
   "cell_type": "markdown",
   "metadata": {},
   "source": [
    "**Importing Libraries** 📚"
   ]
  },
  {
   "cell_type": "code",
   "execution_count": null,
   "metadata": {},
   "outputs": [],
   "source": [
    "import pandas as pd\n",
    "from sqlalchemy import URL\n",
    "from sqlalchemy import text\n",
    "from urllib.parse import quote_plus\n",
    "from sqlalchemy import create_engine\n",
    "from sqlalchemy import ForeignKeyConstraint\n",
    "from sqlalchemy.types import Integer, VARCHAR, CHAR"
   ]
  },
  {
   "cell_type": "markdown",
   "metadata": {},
   "source": [
    "**Creating and Connecting to DataBase** 📝"
   ]
  },
  {
   "cell_type": "code",
   "execution_count": null,
   "metadata": {},
   "outputs": [],
   "source": [
    "url_object = URL.create(\n",
    "    \"mysql+mysqlconnector\",\n",
    "    username = \"root\",\n",
    "    password = \"milin380\",\n",
    "    host = \"localhost\",\n",
    ")"
   ]
  },
  {
   "cell_type": "code",
   "execution_count": null,
   "metadata": {},
   "outputs": [],
   "source": [
    "engine = create_engine(url_object)\n",
    "with engine.connect() as conn :\n",
    "    conn.execute(text('CREATE Schema spotify;'))"
   ]
  },
  {
   "cell_type": "markdown",
   "metadata": {},
   "source": [
    "🔴 **Creating Countries Table**"
   ]
  },
  {
   "cell_type": "code",
   "execution_count": null,
   "metadata": {},
   "outputs": [],
   "source": []
  },
  {
   "cell_type": "markdown",
   "metadata": {},
   "source": [
    "🟢 **Creating Daily Top 200 Table**"
   ]
  },
  {
   "cell_type": "code",
   "execution_count": null,
   "metadata": {},
   "outputs": [],
   "source": []
  },
  {
   "cell_type": "markdown",
   "metadata": {},
   "source": [
    "🟠 **Creating Genre Table**"
   ]
  },
  {
   "cell_type": "code",
   "execution_count": null,
   "metadata": {},
   "outputs": [],
   "source": []
  },
  {
   "cell_type": "markdown",
   "metadata": {},
   "source": [
    "🔵 **Creating Subgenre Table**"
   ]
  },
  {
   "cell_type": "code",
   "execution_count": null,
   "metadata": {},
   "outputs": [],
   "source": []
  },
  {
   "cell_type": "markdown",
   "metadata": {},
   "source": [
    "🟡 **Creating Artist Table**"
   ]
  },
  {
   "cell_type": "code",
   "execution_count": null,
   "metadata": {},
   "outputs": [],
   "source": []
  },
  {
   "cell_type": "markdown",
   "metadata": {},
   "source": [
    "🟣 **Creating Track Info Table**"
   ]
  },
  {
   "cell_type": "code",
   "execution_count": null,
   "metadata": {},
   "outputs": [],
   "source": []
  },
  {
   "cell_type": "markdown",
   "metadata": {},
   "source": [
    "⚫ **Creating Track Music Table**"
   ]
  },
  {
   "cell_type": "code",
   "execution_count": null,
   "metadata": {},
   "outputs": [],
   "source": []
  },
  {
   "cell_type": "markdown",
   "metadata": {},
   "source": [
    "⚪ **Creating Track Lyric Table**"
   ]
  },
  {
   "cell_type": "code",
   "execution_count": null,
   "metadata": {},
   "outputs": [],
   "source": []
  }
 ],
 "metadata": {
  "kernelspec": {
   "display_name": "qenv",
   "language": "python",
   "name": "qenv"
  },
  "language_info": {
   "name": "python",
   "version": "3.9.6"
  },
  "orig_nbformat": 4
 },
 "nbformat": 4,
 "nbformat_minor": 2
}
