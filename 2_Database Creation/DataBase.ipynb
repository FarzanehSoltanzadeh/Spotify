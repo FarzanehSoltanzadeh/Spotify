{
 "cells": [
  {
   "cell_type": "markdown",
   "metadata": {},
   "source": [
    "💭 **Entity Relationship Diagram:** [Spotify Diagram](https://viewer.diagrams.net/?tags=%7B%7D&highlight=0000ff&edit=_blank&layers=1&nav=1#R7V1Zd9o4FP41nJM%2B0OMd80iWZjonTdOmnZnOC0fYAtQYi8pyAv31I3nDG%2BBgGxxGeQm6tmTru5%2Burq4W99SrxeqWgOX8E7ah01Mke9VTr3sK%2BzNl9o9L1qFkOFBDwYwgOxTJG8Ej%2Bg0joRRJfWRDL3MjxdihaJkVWth1oUUzMkAIfsneNsVO9qlLMIMFwaMFnKL0b2TTeSg1lcFG%2FgdEs3n8ZNkYhlcWIL45qok3BzZ%2BSYnUm556RTCm4a%2FF6go6HLwYlzDfhy1Xkxcj0KVVMjwC%2Bunv4eivnx%2F%2FfZA%2F4qcvztTqR6U8A8ePKmxh36UEMczDt6brGArvBS0c4LLUpTVHjn0H1tjnj%2FYosJ7i1OUcE%2FQbuxQ47JLMBOwyoZFmdSlzxyPPycRcStiDbWhHmabsepRH1uJ09C5SUCjBT4lKFJ4feuz%2BhxgPKRHdAY%2FGrxLrgF%2B1gTcPnscTwEEzl%2F22WG5IuIBY0fP541%2FmiMLHJbC44IVRnVeDLuIqTpHjXGEHkwAp1QbQnFrJW6auGJYJJ1N2pai9WBWQULhKiSJt3kK8gJSs2S3R1b6uRdSK2pZm6GH6ZcNU2YjumadYOoxkIGocs6TsDX%2FYj4hCr6CTUqBTTzEcGukvaKYxFMYvnzOfAaFOp5JkSmmRMeP%2FkYeVi6s%2FRl9ZRuVdXBJ7sbCw8KZYPCGxJGTw%2BuKv0dc4s%2FSuwOZY4Q6c0oKmXBzQPK3WSOQxDiB3dhfkutZyTOU85ApEzICMogdQvIypCCYJfwmmgKbSjAkxSVO8KrJkZyveT52IKbpUjShaW0RRC0SxAXLWYwbWWJGkgraE7alse3Ro2lqZ7TGViWoYDdkeVcrZnqqUkpW2OKUdZHwk9mdZReNDCaPHGNkpM6Lq1Y1QnUdHBmz8avuXajFxmRNMbEj60fNHAT7kot9Py9%2BFxeTewgYUXlyPvt28K9ZuiT1EEXYvPt5%2FO2%2FTqlZuGa80rYO2moFeaAYhlRe%2BhyxhWA82rNMpNKxSp84eDCeS1JJhNdSKhFKMthhlHNGwFi1ozt49wXVkdcLLzGq4pZav%2BOS9WQJC9L2QEdxWLgncVhJYcLq4E295WHp7bcPX2ylesHH2xeXnz3c3o%2FvOIVGrZg72bRd63sWHu8%2Bj02u5Vl0oXCzxOVTE9gng3f144Ym2R9ECjj3WsQDqE9hJPOopG7gWBBPkILpukbysP6T9sNPltXNx1AHXg4o7tA5YehvMPEie22kVW8TQhWQmkDtA7C0hZE5oh8x%2Fow0LsHGdx8YvXa3cUa0ocpkb7S8gHzB0WOFHxcRBz9DpEv1r1YYNFyDrSZKqnHGQQK88yntlkCCZBmt8TDfYEiVA7hSLIMHhQQLTguVBgompa3pTQQIlGyPQlZPzyWx05qdmjKDKo7eFJxhjkUdfG%2Fjdam4Pj7%2FusbbNhJpn0CWQVzYaxmztzxqtmudP8g%2FO1Qk4E39xePR9iZe%2BA0i7I5juORAUUQemIJMl6Y3V%2FHXjh87VqYt1qMUouFo6yEK01WBj868NPCueOJPfyCuHXZ7rLyaQnP%2B02qCyy%2FNKj1lubRZkWPBwgj5MOMs1ZtSmypYZNWNi6A0tVdCzvnLiAp9skVT8Ag35yns8qS0%2BU5jLBYu0v6Cft9EZVqZOV5ZJycX1mbHvLOzOwXYHyrYOB2V2Z2gMVNDUEinFzFkeo4RO5lEtj9Ko5dk2jNs7PEsy5uyPeuYGSG5koWYZZdqzQMXFH6Gn6qyJWE5UwwhNJKhCo8wISdCUTLMZIyTLWRtklng%2FyXrbzPI0vTVGFUPPdSJYNddpuuMXTOxuLGuoNX701v7vOaRjF5NFJ2pz0kjYhNn%2B7kBRL5YxRa7bnbqcVK0usbqDRBPN9Rwmenlb64RCTkrNoJkKGFgLFSAAd5YEcf%2FXMLABFlqC1E6R%2FzEaNvJmvkcFEFMIutE4atXiJxb7EC49EC7Wf4tA1Ku4T5YEed1c%2Fn3cNQdEGDVeDJyxfu5ZECLaGyqQiNzAcLzajWFeZ7xBAUrWKRR4pHxDAcbGxRRYZD1NgUfOARWApP1QgUbOHRWA5LxSAUjBOVUEHCXeqUCll3VPBSC9lH8q0OhtHFQBRi%2FroQpAejkXVSDSS%2FuoAo5ezkkViPRyXqpAJM2RCZ6Nf57BvGGi4g5V6KQavgRr%2BDZnEBuF4T4meohHVw93OzImPiXAEZBsxA%2Bx%2BThDTE63cfrNqD9Z1zx2w7ZxXgyoD0sy%2B7zB5Zw3FBmVN4Rs31BUvv9DamD%2Fxz2kV9fPiqJBbYGcX8uR%2Fu%2B0L2sFlUB7BuONO5jQOZ5hFzg3G2lq4w%2FHbHPPHeYgB5D9hJSuI30An%2BIsoHCF6D88%2B3s9Sv2ICuO%2Fr1fpxDpO8FO4U5l48kdcHk9ssgWpTT57xD89wpI3Xxl7vuFPwF2HFz4gjlZw29btPR72iQV3qT06bYcCMoN0B9bRwVQc353kINAJnI%2FMazS%2F86d4SFB42o7YRlZnD%2F002CxW2EamGupQtXfxrPo2MlXObiNTh1WPY2jttH%2B5eB5D3Dkcspd1z7FPe%2FfTR%2FnLNrTmS0gdTlS%2BZX%2BKHQe%2FQOKd%2FzkgiUno5Pn6X5bDL8b3%2B7n3XV49mVe39yv9Ov7GzWm6r%2Fh30Hm9V%2BK%2BbE%2F%2F1ZfeS1LSa4V5VWN%2FN8ZSD5Aghhu3U8fp25Ri17brax%2FH79pKSXFanyZDioqcyNFB0feyoWXFl%2Fg0b0DxenesQQ1jYJj71b%2FbGESdTFNkMCqSwewUGYzOkKHquEbJDGykU9sAuar1H3RK74PujGjlqpofqlpa9Vmr0CmPIB57dJcUpWPvpH4dYEVle6CpwzQr5PeSPjw1KcqjSEVOlN%2BndooUxfO8gpNuC0wRAZDK5%2BgAy7TVwjiYXVFUTdMbCoDog2wARB9W%2FNSqrLYVR1UKVKoV%2F9h54PL%2B8EeQvUr0g7UzCDw43vV5QYoZX8fByT7elhhJIYhyHkGSnUaj8RiJ2RY31e50fRUdolMOh3c17%2BOPgIKsrG5gnbphiZFLvVTJD1ywsY9G7pTVgaanSVS4X1Xr3W%2FIUo6k4RtvKJtU%2FXAWFz8oG0V5xQGcNSctgD0A5V%2FJ0BiTtGb67PykxVFP%2Ft01HdfQyXeVpyyqHdJ5xh2oVpk6Jzj4t%2FSNh6IDrR02GFbsQU8WNnj%2BNbslQ391%2F%2Bctmhs%2FvgPH6Ze69TuowGBhPvDX4NWwm6ZDvt2lFb0N%2ByyFNnGBrG73qvaA8PThei5R8y4jsFfN6TZftjImEb7Ooyq4NHLOZdLy3nhY8yjXDt8of8K9mi8ohKZQUFNuUsmp0lHXJGIb9fwkW7IgVMr8JN3Q5QFsKLaRO6dckyrGNlrzk%2BKg3bEdpVd%2BdeqMPaakTb8dl0k%2Bqc902MIMPumiZjtXTTL3ek4nmYWp2s%2FG1OlIxH2P%2F9QpV7qt2fSqSyvi5cStq44lCeY2euOHsL5w%2FgnbkN%2FxHw%3D%3D)"
   ]
  },
  {
   "cell_type": "markdown",
   "metadata": {},
   "source": [
    "**Importing Libraries** 📚"
   ]
  },
  {
   "cell_type": "code",
   "execution_count": 117,
   "metadata": {},
   "outputs": [],
   "source": [
    "import pandas as pd\n",
    "import numpy as np\n",
    "from urllib.parse import quote_plus\n",
    "from sqlalchemy import URL\n",
    "from sqlalchemy import create_engine, ForeignKeyConstraint, text\n",
    "from sqlalchemy.types import Integer, Float, Boolean, VARCHAR, CHAR, Date\n",
    "import os\n",
    "import patoolib"
   ]
  },
  {
   "cell_type": "markdown",
   "metadata": {},
   "source": [
    "**Reading CSV files** ✅"
   ]
  },
  {
   "cell_type": "code",
   "execution_count": 3,
   "metadata": {},
   "outputs": [],
   "source": [
    "if not os.path.exists(\"Spotify Data/dailytop200.csv\"):\n",
    "    patoolib.extract_archive(\"Spotify Data/dailytop200.rar\", outdir=\"Spotify Data\")"
   ]
  },
  {
   "cell_type": "code",
   "execution_count": 4,
   "metadata": {},
   "outputs": [],
   "source": [
    "albums = pd.read_csv(\"Spotify Data/albums.csv\")\n",
    "artists = pd.read_csv(\"Spotify Data/artists.csv\")\n",
    "countries = pd.read_csv(\"Spotify Data/countries.csv\")\n",
    "dailytop200 = pd.read_csv(\"Spotify Data/dailytop200.csv\")\n",
    "track_info = pd.read_csv(\"Spotify Data/track_info.csv\")\n",
    "track_lyric = pd.read_csv(\"Spotify Data/track_lyric.csv\")\n",
    "track_music = pd.read_csv(\"Spotify Data/track_music.csv\")"
   ]
  },
  {
   "cell_type": "markdown",
   "metadata": {},
   "source": [
    "**Creating and Connecting to DataBase** 📝"
   ]
  },
  {
   "cell_type": "code",
   "execution_count": 5,
   "metadata": {},
   "outputs": [],
   "source": [
    "url_object = URL.create(\n",
    "    \"mysql+mysqlconnector\",\n",
    "    username=\"root\",\n",
    "    password=\"Your Password\",\n",
    "    host=\"localhost\",\n",
    ")"
   ]
  },
  {
   "cell_type": "code",
   "execution_count": 6,
   "metadata": {},
   "outputs": [],
   "source": [
    "engine = create_engine(url_object)\n",
    "with engine.connect() as conn :\n",
    "    conn.execute(text('CREATE SCHEMA IF NOT EXISTS spotify;'))"
   ]
  },
  {
   "cell_type": "markdown",
   "metadata": {},
   "source": [
    "🔴 **Creating Countries Table**"
   ]
  },
  {
   "cell_type": "code",
   "execution_count": null,
   "metadata": {},
   "outputs": [],
   "source": []
  },
  {
   "cell_type": "markdown",
   "metadata": {},
   "source": [
    "🟠 **Creating Genre Table**"
   ]
  },
  {
   "cell_type": "code",
   "execution_count": 77,
   "metadata": {},
   "outputs": [
    {
     "data": {
      "text/html": [
       "<div>\n",
       "<style scoped>\n",
       "    .dataframe tbody tr th:only-of-type {\n",
       "        vertical-align: middle;\n",
       "    }\n",
       "\n",
       "    .dataframe tbody tr th {\n",
       "        vertical-align: top;\n",
       "    }\n",
       "\n",
       "    .dataframe thead th {\n",
       "        text-align: right;\n",
       "    }\n",
       "</style>\n",
       "<table border=\"1\" class=\"dataframe\">\n",
       "  <thead>\n",
       "    <tr style=\"text-align: right;\">\n",
       "      <th></th>\n",
       "      <th>genres_name</th>\n",
       "    </tr>\n",
       "    <tr>\n",
       "      <th>genre_id</th>\n",
       "      <th></th>\n",
       "    </tr>\n",
       "  </thead>\n",
       "  <tbody>\n",
       "    <tr>\n",
       "      <th>1</th>\n",
       "      <td>hip</td>\n",
       "    </tr>\n",
       "    <tr>\n",
       "      <th>2</th>\n",
       "      <td>pop</td>\n",
       "    </tr>\n",
       "    <tr>\n",
       "      <th>3</th>\n",
       "      <td>met</td>\n",
       "    </tr>\n",
       "    <tr>\n",
       "      <th>4</th>\n",
       "      <td>ind</td>\n",
       "    </tr>\n",
       "    <tr>\n",
       "      <th>5</th>\n",
       "      <td>rap</td>\n",
       "    </tr>\n",
       "  </tbody>\n",
       "</table>\n",
       "</div>"
      ],
      "text/plain": [
       "         genres_name\n",
       "genre_id            \n",
       "1                hip\n",
       "2                pop\n",
       "3                met\n",
       "4                ind\n",
       "5                rap"
      ]
     },
     "execution_count": 77,
     "metadata": {},
     "output_type": "execute_result"
    }
   ],
   "source": [
    "genres=pd.concat((track_info.genre, artists.Genres)).str.split(',').explode()\n",
    "genres = genres.str.strip().unique()\n",
    "\n",
    "genres_df=pd.DataFrame({'genre_id':range(1, len(genres) + 1),'genres_name':genres}).set_index('genre_id')\n",
    "genres_df.head()"
   ]
  },
  {
   "cell_type": "code",
   "execution_count": 81,
   "metadata": {},
   "outputs": [],
   "source": [
    "with engine.connect() as conn:\n",
    "    genres_df.to_sql(name = \"genre\", con = conn, schema = \"spotify\", if_exists = \"replace\", dtype = {\"genre_id\": Integer, \"genres_name\": VARCHAR(length = 40)})\n",
    "    conn.execute(text('ALTER TABLE spotify.genre ADD PRIMARY KEY (genre_id);'))"
   ]
  },
  {
   "cell_type": "markdown",
   "metadata": {},
   "source": [
    "🟡 **Creating Artist Table**"
   ]
  },
  {
   "cell_type": "code",
   "execution_count": 112,
   "metadata": {},
   "outputs": [
    {
     "data": {
      "text/html": [
       "<div>\n",
       "<style scoped>\n",
       "    .dataframe tbody tr th:only-of-type {\n",
       "        vertical-align: middle;\n",
       "    }\n",
       "\n",
       "    .dataframe tbody tr th {\n",
       "        vertical-align: top;\n",
       "    }\n",
       "\n",
       "    .dataframe thead th {\n",
       "        text-align: right;\n",
       "    }\n",
       "</style>\n",
       "<table border=\"1\" class=\"dataframe\">\n",
       "  <thead>\n",
       "    <tr style=\"text-align: right;\">\n",
       "      <th></th>\n",
       "      <th>artist_name</th>\n",
       "      <th>popularity</th>\n",
       "      <th>followers</th>\n",
       "    </tr>\n",
       "    <tr>\n",
       "      <th>artist_id</th>\n",
       "      <th></th>\n",
       "      <th></th>\n",
       "      <th></th>\n",
       "    </tr>\n",
       "  </thead>\n",
       "  <tbody>\n",
       "    <tr>\n",
       "      <th>3vQ0GE3mI0dAaxIMYe5g7z</th>\n",
       "      <td>Paulo Londra</td>\n",
       "      <td>74</td>\n",
       "      <td>22189494</td>\n",
       "    </tr>\n",
       "    <tr>\n",
       "      <th>69GGBxA162lTqCwzJG5jLp</th>\n",
       "      <td>The Chainsmokers</td>\n",
       "      <td>78</td>\n",
       "      <td>20348703</td>\n",
       "    </tr>\n",
       "    <tr>\n",
       "      <th>6LqNN22kT3074XbTVUrhzX</th>\n",
       "      <td>Kesha</td>\n",
       "      <td>74</td>\n",
       "      <td>7620554</td>\n",
       "    </tr>\n",
       "    <tr>\n",
       "      <th>7jy3rLJdDQY21OgRLCZ9sD</th>\n",
       "      <td>Foo Fighters</td>\n",
       "      <td>77</td>\n",
       "      <td>11191467</td>\n",
       "    </tr>\n",
       "    <tr>\n",
       "      <th>6XyY86QOPPrYVGvF9ch6wz</th>\n",
       "      <td>Linkin Park</td>\n",
       "      <td>83</td>\n",
       "      <td>24144132</td>\n",
       "    </tr>\n",
       "  </tbody>\n",
       "</table>\n",
       "</div>"
      ],
      "text/plain": [
       "                             artist_name  popularity  followers\n",
       "artist_id                                                      \n",
       "3vQ0GE3mI0dAaxIMYe5g7z      Paulo Londra          74   22189494\n",
       "69GGBxA162lTqCwzJG5jLp  The Chainsmokers          78   20348703\n",
       "6LqNN22kT3074XbTVUrhzX             Kesha          74    7620554\n",
       "7jy3rLJdDQY21OgRLCZ9sD      Foo Fighters          77   11191467\n",
       "6XyY86QOPPrYVGvF9ch6wz       Linkin Park          83   24144132"
      ]
     },
     "execution_count": 112,
     "metadata": {},
     "output_type": "execute_result"
    }
   ],
   "source": [
    "artists_df=artists[['artist_id','Name','Popularity','Followers']].copy().set_index('artist_id').drop_duplicates()\n",
    "artists_df.rename(columns={'Name': 'artist_name' ,'Popularity':'popularity', 'Followers':'followers'}, inplace=True)\n",
    "artists_df.head()"
   ]
  },
  {
   "cell_type": "code",
   "execution_count": 113,
   "metadata": {},
   "outputs": [],
   "source": [
    "with engine.connect() as conn:\n",
    "    artists_df.to_sql(name = \"artist\", con = conn, schema = \"spotify\", if_exists = \"replace\", dtype = {\"artist_id\": VARCHAR(length = 35), \"artist_name\": VARCHAR(length = 100), 'popularity':Integer, 'followers':Integer})\n",
    "    conn.execute(text('ALTER TABLE spotify.artist ADD PRIMARY KEY (artist_id);'))"
   ]
  },
  {
   "cell_type": "markdown",
   "metadata": {},
   "source": [
    "🟤 **Creating Album Table**"
   ]
  },
  {
   "cell_type": "code",
   "execution_count": 152,
   "metadata": {},
   "outputs": [
    {
     "data": {
      "text/html": [
       "<div>\n",
       "<style scoped>\n",
       "    .dataframe tbody tr th:only-of-type {\n",
       "        vertical-align: middle;\n",
       "    }\n",
       "\n",
       "    .dataframe tbody tr th {\n",
       "        vertical-align: top;\n",
       "    }\n",
       "\n",
       "    .dataframe thead th {\n",
       "        text-align: right;\n",
       "    }\n",
       "</style>\n",
       "<table border=\"1\" class=\"dataframe\">\n",
       "  <thead>\n",
       "    <tr style=\"text-align: right;\">\n",
       "      <th></th>\n",
       "      <th>album_name</th>\n",
       "      <th>release_date</th>\n",
       "      <th>total_tracks</th>\n",
       "      <th>popularity</th>\n",
       "    </tr>\n",
       "    <tr>\n",
       "      <th>album_id</th>\n",
       "      <th></th>\n",
       "      <th></th>\n",
       "      <th></th>\n",
       "      <th></th>\n",
       "    </tr>\n",
       "  </thead>\n",
       "  <tbody>\n",
       "    <tr>\n",
       "      <th>1XBTyV1if5X9sU4IhpfH5R</th>\n",
       "      <td>Adan y Eva</td>\n",
       "      <td>2018-11-05</td>\n",
       "      <td>1</td>\n",
       "      <td>60</td>\n",
       "    </tr>\n",
       "    <tr>\n",
       "      <th>4JPguzRps3kuWDD5GS6oXr</th>\n",
       "      <td>Memories...Do Not Open</td>\n",
       "      <td>2017-04-07</td>\n",
       "      <td>12</td>\n",
       "      <td>79</td>\n",
       "    </tr>\n",
       "    <tr>\n",
       "      <th>6qJgVaJKgGU7TFoBzPLyqh</th>\n",
       "      <td>Hymn</td>\n",
       "      <td>2017-08-03</td>\n",
       "      <td>1</td>\n",
       "      <td>0</td>\n",
       "    </tr>\n",
       "    <tr>\n",
       "      <th>6KMkuqIwKkwUhUYRPL6dUc</th>\n",
       "      <td>Concrete and Gold</td>\n",
       "      <td>2017-09-15</td>\n",
       "      <td>11</td>\n",
       "      <td>59</td>\n",
       "    </tr>\n",
       "    <tr>\n",
       "      <th>5Eevxp2BCbWq25ZdiXRwYd</th>\n",
       "      <td>One More Light</td>\n",
       "      <td>2017-05-19</td>\n",
       "      <td>10</td>\n",
       "      <td>72</td>\n",
       "    </tr>\n",
       "  </tbody>\n",
       "</table>\n",
       "</div>"
      ],
      "text/plain": [
       "                                    album_name release_date  total_tracks  \\\n",
       "album_id                                                                    \n",
       "1XBTyV1if5X9sU4IhpfH5R              Adan y Eva   2018-11-05             1   \n",
       "4JPguzRps3kuWDD5GS6oXr  Memories...Do Not Open   2017-04-07            12   \n",
       "6qJgVaJKgGU7TFoBzPLyqh                    Hymn   2017-08-03             1   \n",
       "6KMkuqIwKkwUhUYRPL6dUc       Concrete and Gold   2017-09-15            11   \n",
       "5Eevxp2BCbWq25ZdiXRwYd          One More Light   2017-05-19            10   \n",
       "\n",
       "                        popularity  \n",
       "album_id                            \n",
       "1XBTyV1if5X9sU4IhpfH5R          60  \n",
       "4JPguzRps3kuWDD5GS6oXr          79  \n",
       "6qJgVaJKgGU7TFoBzPLyqh           0  \n",
       "6KMkuqIwKkwUhUYRPL6dUc          59  \n",
       "5Eevxp2BCbWq25ZdiXRwYd          72  "
      ]
     },
     "execution_count": 152,
     "metadata": {},
     "output_type": "execute_result"
    }
   ],
   "source": [
    "albums_df = albums.drop('Artists', axis=1).set_index('album_id').drop_duplicates()\n",
    "albums_df.rename(columns={'Name': 'album_name' ,'Release Date':'release_date', 'Total Tracks':'total_tracks', 'Popularity': 'popularity'}, inplace=True)\n",
    "albums_df['release_date'] = pd.to_datetime(albums_df['release_date'], format='%Y-%m-%d', errors='coerce')\n",
    "albums_df.head()"
   ]
  },
  {
   "cell_type": "code",
   "execution_count": 149,
   "metadata": {},
   "outputs": [],
   "source": [
    "with engine.connect() as conn:\n",
    "    albums_df.to_sql(name = \"album\", con = conn, schema = \"spotify\", if_exists = \"replace\", dtype = {\"album_id\": VARCHAR(length = 35), \"album_name\": VARCHAR(length = 300), 'release_date':Date, 'total_tracks':Integer, 'popularity': Integer})\n",
    "    conn.execute(text('ALTER TABLE spotify.album ADD PRIMARY KEY (album_id);'))"
   ]
  },
  {
   "cell_type": "markdown",
   "metadata": {},
   "source": [
    "🟣 **Creating Track Info Table**"
   ]
  },
  {
   "cell_type": "code",
   "execution_count": null,
   "metadata": {},
   "outputs": [],
   "source": []
  },
  {
   "cell_type": "markdown",
   "metadata": {},
   "source": [
    "🔵 **Creating Subgenre Table**"
   ]
  },
  {
   "cell_type": "code",
   "execution_count": 36,
   "metadata": {},
   "outputs": [],
   "source": [
    "unique_subgenres = track_info[\"subgenre\"].unique()\n",
    "subgenre_df = pd.DataFrame({\"subgenre_id\": range(1, len(unique_subgenres) + 1), \"subgenre_name\": unique_subgenres})\n",
    "\n",
    "with engine.connect() as conn:\n",
    "    subgenre_df.to_sql(name = \"subgenre\", con = conn, schema = \"spotify\", if_exists = \"replace\", index = False, dtype = {\"subgenre_id\": Integer, \"subgenre_name\": VARCHAR(length = 35)})\n",
    "    conn.execute(text('ALTER TABLE spotify.subgenre ADD PRIMARY KEY (subgenre_id);'))"
   ]
  },
  {
   "cell_type": "markdown",
   "metadata": {},
   "source": [
    "⚪ **Creating Track Lyric Table**"
   ]
  },
  {
   "cell_type": "code",
   "execution_count": 37,
   "metadata": {},
   "outputs": [],
   "source": [
    "track_lyric_df = track_lyric.copy()\n",
    "track_lyric_df.drop(\"ldabing_norm_negative\", axis = 1, inplace = True)\n",
    "\n",
    "column_data_types = {\n",
    "    \"track_id\": VARCHAR(35),\n",
    "    \"n_words\": Integer,\n",
    "    \"syuzhet_norm\": Integer,\n",
    "    \"bing_norm\": Integer,\n",
    "    \"afinn_norm\": Integer,\n",
    "    \"nrc_norm\": Integer,\n",
    "    \"syuzhet\": Float,\n",
    "    \"bing\": Integer,\n",
    "    \"afinn\": Integer,\n",
    "    \"nrc\": Integer,\n",
    "    \"anger\": Integer,\n",
    "    \"anticipation\": Integer,\n",
    "    \"disgust\": Integer,\n",
    "    \"fear\": Integer,\n",
    "    \"joy\": Integer,\n",
    "    \"sadness\": Integer,\n",
    "    \"surprise\": Integer,\n",
    "    \"trust\": Integer,\n",
    "    \"negative\": Integer,\n",
    "    \"positive\": Integer,\n",
    "    \"anger_norm\": Float,\n",
    "    \"anticipation_norm\": Float,\n",
    "    \"disgust_norm\": Float,\n",
    "    \"fear_norm\": Float,\n",
    "    \"joy_norm\": Float,\n",
    "    \"sadness_norm\": Float,\n",
    "    \"surprise_norm\": Float,\n",
    "    \"trust_norm\": Float,\n",
    "    \"negative_norm\": Float,\n",
    "    \"positive_norm\": Float,\n",
    "    \"anger_norm2\": Float,\n",
    "    \"anticipation_norm2\": Float,\n",
    "    \"disgust_norm2\": Float,\n",
    "    \"fear_norm2\": Float,\n",
    "    \"joy_norm2\": Float,\n",
    "    \"sadness_norm2\": Float,\n",
    "    \"surprise_norm2\": Float,\n",
    "    \"trust_norm2\": Float,\n",
    "    \"negative_norm2\": Float,\n",
    "    \"positive_norm2\": Float,\n",
    "    \"negative_bog_jr\": Integer,\n",
    "    \"positive_bog_jr\": Integer,\n",
    "    \"Bayes\": Integer,\n",
    "    \"Negative_Bayes\": Boolean,\n",
    "    \"Neutral_Bayes\": Boolean,\n",
    "    \"Positive_Bayes\": Boolean,\n",
    "    \"bing_norm_neutral\": Boolean,\n",
    "    \"bing_norm_positive\": Boolean,\n",
    "}\n",
    "\n",
    "with engine.connect() as conn:\n",
    "    track_lyric_df.to_sql(name = \"track_lyric\", con = conn, schema = \"spotify\", if_exists = \"replace\", dtype = column_data_types, index = False)\n",
    "    conn.execute(text('ALTER TABLE spotify.track_lyric ADD FOREIGN KEY (track_id) REFERENCES track_info(track_id);'))"
   ]
  },
  {
   "cell_type": "markdown",
   "metadata": {},
   "source": [
    "🟢 **Creating Daily Top 200 Table**"
   ]
  },
  {
   "cell_type": "code",
   "execution_count": null,
   "metadata": {},
   "outputs": [],
   "source": []
  },
  {
   "cell_type": "markdown",
   "metadata": {},
   "source": [
    "⚫ **Creating Track Music Table**"
   ]
  },
  {
   "cell_type": "code",
   "execution_count": null,
   "metadata": {},
   "outputs": [],
   "source": []
  },
  {
   "cell_type": "markdown",
   "metadata": {},
   "source": [
    "🔴 **Creating Artist_Genre Table**"
   ]
  },
  {
   "cell_type": "code",
   "execution_count": null,
   "metadata": {},
   "outputs": [],
   "source": [
    "artists_copy=artists.copy()\n",
    "artists_copy['Genres'] = artists_copy['Genres'].str.split(', ')\n",
    "artists_copy = artists_copy.explode('Genres')\n",
    "artists_copy=artists_copy[['artist_id','Genres']]\n",
    "\n",
    "with engine.connect() as conn:\n",
    "    genre_data=conn.execute(text('select * FROM spotify.genre;'))\n",
    "\n",
    "genre_df = pd.DataFrame(genre_data.all(), columns=genre_data.keys())\n",
    "artists_copy.rename(columns={'Genres':'genres_name'},inplace=True)\n",
    "\n",
    "artist_genre_df = pd.merge(genre_df, artists_copy ,how=\"inner\", on=['genres_name'])\n",
    "artist_genre_df.drop(columns=['genres_name'],inplace=True)\n",
    "\n",
    "with engine.connect() as conn:\n",
    "    artist_genre_df.to_sql(name = \"artist_genre\", con = conn, schema = \"spotify\", if_exists = \"replace\", dtype ={'genre_id':Integer,'artist_id':VARCHAR(length = 35)}, index = False)\n",
    "    conn.execute(text('ALTER TABLE spotify.artist_genre ADD (FOREIGN KEY (genre_id) REFERENCES genre(genre_id),FOREIGN KEY (artist_id) REFERENCES artist(artist_id));'))"
   ]
  },
  {
   "cell_type": "markdown",
   "metadata": {},
   "source": [
    "🔵 **Creating Artist_Album Table**"
   ]
  },
  {
   "cell_type": "code",
   "execution_count": null,
   "metadata": {},
   "outputs": [],
   "source": []
  }
 ],
 "metadata": {
  "kernelspec": {
   "display_name": "Python 3",
   "language": "python",
   "name": "python3"
  },
  "language_info": {
   "codemirror_mode": {
    "name": "ipython",
    "version": 3
   },
   "file_extension": ".py",
   "mimetype": "text/x-python",
   "name": "python",
   "nbconvert_exporter": "python",
   "pygments_lexer": "ipython3",
   "version": "3.11.4"
  },
  "orig_nbformat": 4
 },
 "nbformat": 4,
 "nbformat_minor": 2
}
