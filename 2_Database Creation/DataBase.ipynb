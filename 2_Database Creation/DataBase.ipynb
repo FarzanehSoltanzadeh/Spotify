{
 "cells": [
  {
   "cell_type": "markdown",
   "metadata": {},
   "source": [
    "💭 **Entity Relationship Diagram:** [Spotify Diagram](https://viewer.diagrams.net/?tags=%7B%7D&highlight=0000ff&edit=_blank&layers=1&nav=1#R7V1bd9q6Ev41rJU%2B0OU75pFcmt2zkjRt0r1P9wtL2ALUGIvKcgL99VvyDd8Agw04VHkJHlu2NfNp5tPo4o56NVvcEjCf3mMbOh1Fshcd9bqjKIraV9k%2FLlmGElnSzFAyIciOZCvBE%2FoN4wsjqY9s6GUupBg7FM2zQgu7LrRoRgYIwW%2FZy8bYyT51DiawIHiygFOU%2FoNsOg2lptJbyf%2BCaDKNnywb%2FfDMDMQXRzXxpsDGbymRetNRrwjGNPw1W1xBh2sv1ktY7tOas8mLEejSKgWeAL3%2Fpz%2F4%2B%2Bfnfx%2Flz%2FjlqzO2utFdXoHjRxW%2Bwr5LCWI6D9%2BaLmNVeG9o5gCXHV1aU%2BTYd2CJff5ojwLrJT66nGKCfmOXAoedkpmAnSY0sqwuZa544iWZmEsJe7AN7ajQmJ2PyshafBy9ixTclOCXxCQKLw89dv1jrA8pEd0Bj8avEtuAn7WBNw2exw%2BAgyYu%2B22x0pBwAbGi5%2FPHv00RhU9zYHHBG8M6rwadxVUcI8e5wg4mgaZUG0BzbCVvmTpjWCYcjdmZovViU0BC4SIliqx5C%2FEMUrJkl0Rnu7oWQStqXJqhh8dvK6TKRnTNNIXSfiQDUeOYJPde4Yf9iCC0A5yUApw6iuHQyH5BM41VYfzyOfKZItTxWJJMKS0yJvw%2F8rBycfXX4BsrqHyI78ReLLxZeFEsHpFYYgUIXl78PfgWF5Y%2BFNAcG9yBY1qwlIsDmKfNGok8hgHkTu6CUtdaDqkch9yAiDmQQfQAiucxFMEowS%2FBFNDUMUNCDNIUrooo2diKt0MnQoouVQOKdiigqAWgXAPkLIfPeD5UJKlgLeF7KvseHZq2VuZ7TGWkGkZDvkeVcr6nKqRk5VCY0vZyPhL7s6yi86GEwWOI7JQbUfXqTqjOoyMHNtzZ%2F6VaTHzPESY2JN3o%2BYNAP%2BSi203LP4S3yb2FDSi8uB4833wo1m6OPUQRdi8%2BPzyft2tVK7eMHV1r71DNQC80g%2BcAyve%2BhyzhWPd2rOMxNKxSUmf3%2BiNJOpBjNdSKgFKMQyHKOKJjLXrQnL97gcvI64SnmddwSz1f8clbiwSA6HohIrivnBO47k5gxuHijrz5fsfraxu%2B3kbxjHW0Ly6%2FfLm7GTy0ThO1auZg33ah5118uvsyOL2Va9WFwtkcn0NFbJ8AHu6HM0%2B0PYpmcOixwAKoT2Ar9VHP2MC1IBghB9HlAcHL4iHthkGX187FUQCupypOaB0w91Y68yB5PUyrWCOGLiQTobk9xN4cQkZCW%2BT%2BG21YgPXrPNZ%2FaWvljupFkctotD%2BDvMPQYoMfVScOeoVOm%2BBfqzasuwBZJEmqcsZJAr1yL2%2FHJEEyDNZ4n663Jkvw2R1jkSTYP0lgWrA8STAydU1vKkmgZHMEunJyPJmNjvzUzBFUefS69ARDLPLoronfte52%2F%2FzrFm%2FbTKp5Al0CeWWjbszaeNZo1Tx%2FlH9wrk7AGfmz%2FbPvczz3HUAO24NpH4GgiDowpTJZkt5ZzXfrP7SuTm2sQy1EwcXcQRaiB002Nv%2FawLPigTP5nbxyGPJcfzaC5PyH1XqVKc%2BOjFk%2B2ChIv8BwbnkME2S5xojaWFkzomaMDL2hqQp6lisnFPhkk6TiF2iIK29hUms4U1jKBbM0X9DP2%2Bn0K0OnLdOk5OL8zKeIOwu%2Fs7ffgbKtw16Z3%2BkbPRU0NUVKMXOexyiBk3lUz6M06nnWdeO2ds%2BSgjn%2Fo565A5IbmahZBpnDeaDi5I8wUXi3JGI6UQ0nNJKgCo0yJyRBUzLNZpyQLGd9kFnCfpL5tpnpafrBEFVMPdfJYNWcp%2BkO3zCx2zGtoVb%2F0Vv6v6eQDl1MZq2ozUkzYSPm%2B9ujinq5jDFy3fbU5aRmdYnVHk000VzPYaCXt7VWGOSk0AyaqVADa6FCCcCdJEncP1oNrIOF5iC1UuQP1oaNvInvUaGIMQTtaBy1avETi3UIlx4IJ%2Bu%2FR0XUq7hP5gR57Zz%2Bfdw5B0Q4NX4bOGFx7lUAIlobKjQR0cCwv9qObl5r2KBQSpYUCn2kuKFQxopiCl1kmabQR46ACoWkeajQRo6OCoXkWKlQSIGcKkIdJexUaKWTpadCIZ0UPxXa6KwIqlBGJ8tQhUI6OYoqNNJJc1Shjk6OpAqNdHIsVWgkjZERngx%2FnsG4YWLiFlXopBa%2BBEv4PkcQG1XDQwz0UB9t3dztyDrxKQGOUMlK%2FBi7jzPUyekWTr8b8yfzmodu2DbOCwH11ZKMPq%2F0cs4LiozKC0LWLygqX%2F8hNbD%2B4wHSq%2BtXRdGgNkPOr%2FlA%2F3fclbWCSaA9gfHCHUzoFE%2BwC5yblTS18IfrbHXNHeZKDlT2E1K6jOwBfIqzCoULRP%2FPi3%2FUo6Mf0c347%2BtF%2BmAZH%2FBduFOF%2BOGP%2BH78YFUsOFqVswf80yPs8OYbQ88zvgfuMjzxCXFtBZeFauB1TxmudL2Ph31iwU04iLbfoYBMIN2gfL0cHAQ6AfnIPLX5lT%2FFTYIGwW47YhlZnTX042CxWGEZmWqofdUu9SU7LyNT5ewyMrVfdTuGg%2B32Lxf3Y4iDwz5rWbds%2B7R1PX1UvmxBa%2F4Oqc2Jypfsj7Hj4DdIvPPfByRxCa3cX%2F%2FrvP%2FV%2BP4w9b7Lixfz6vZhoV%2FH37g5TfiKfwfB66MSx7It8asrfZSkJGqFZVVjexhjR4%2BQIKY37qd2j237hDKlGMk2fe0jFz6PENpKQXFaTpMBRUVM5OCg6FvRcGDDl1CYd2B4vT3eoIYzMMzt5t%2FsDKIg0xQYjIpgMFsFBqM1YKjar1EyHRvp1D5Arur9e62ye689PVq5quX7qpY2fdYrtIoRxH2P9oKitKud1K8FqKjsDzS1n0aF%2FFHS%2BwcHxa4pkPK0UhEk5deppwRFcT%2BvAd%2FptoAUkQCpvI8OsExbLfSD2RlF1TR9lQApdDFLcLZ%2BE8FeNgGi9yt%2BalVWD5VHVQpQqpX%2F2Ljh8vb0R1C8SvaDtTMIPDjc9HlBihleh8HOPt6aHEkhifJ%2BkyRbgLnej9TOkZiHwqbantBXkRAdtDvcSICrSo3NmvEtKMrqBpapC%2BYYudRL3fmRC1b%2B0cjtstrT9DSICterar3rDVnKgTR84xVkk6rvj%2BLiB2XD4Yqh2Pi35qAFsHug%2FCsZGkOS1kzMzg9aHHXn3%2FWjb43tfFd5yKLaJp1%2FVgDVGgmgTWy7Wfp6fRFAmx8k71eMoL0j9RBff01uSd9fPPzvFk2NH9%2BB43RLaf0GKDAtMA78LXg17KbhkG93aUOv030WQqu8QNa2W027R3q6QTuXmHkXF5Bu82UzYxLhboyqQGnkHGXS8mw8rGhUagM3yu9wr%2BZvFGqicKOmaFLJrtIRTxK5jXo8yZYsCJUynqQbutyDDeU2cvuUa1LF3MbBeJKsnoYo7fjVqT%2BLMYXNvL2UST4pZ9pvYgYfdFGzwVWTzK3M6dgJ98p0aifgHGkYZjN%2FahWVrjKa3ojtqs61COcXN286dkgw99ErHsJi4fQe25Bf8R8%3D)"
   ]
  },
  {
   "cell_type": "markdown",
   "metadata": {},
   "source": [
    "**Importing Libraries** 📚"
   ]
  },
  {
   "cell_type": "code",
   "execution_count": 1,
   "metadata": {},
   "outputs": [],
   "source": [
    "import pandas as pd\n",
    "from sqlalchemy import URL\n",
    "from sqlalchemy import text\n",
    "from urllib.parse import quote_plus\n",
    "from sqlalchemy import create_engine\n",
    "from sqlalchemy import ForeignKeyConstraint\n",
    "from sqlalchemy.types import Integer, VARCHAR, CHAR"
   ]
  },
  {
   "cell_type": "markdown",
   "metadata": {},
   "source": [
    "**Creating and Connecting to DataBase** 📝"
   ]
  },
  {
   "cell_type": "code",
   "execution_count": null,
   "metadata": {},
   "outputs": [],
   "source": [
    "url_object = URL.create(\n",
    "    \"mysql+mysqlconnector\",\n",
    "    username = \"root\",\n",
    "    password = \"Your Password\",\n",
    "    host = \"localhost\",\n",
    ")"
   ]
  },
  {
   "cell_type": "code",
   "execution_count": null,
   "metadata": {},
   "outputs": [],
   "source": [
    "engine = create_engine(url_object)\n",
    "with engine.connect() as conn :\n",
    "    conn.execute(text('CREATE Schema spotify;'))"
   ]
  },
  {
   "cell_type": "markdown",
   "metadata": {},
   "source": [
    "🔵 **Creating Subgenre Table**"
   ]
  },
  {
   "cell_type": "code",
   "execution_count": null,
   "metadata": {},
   "outputs": [],
   "source": []
  },
  {
   "cell_type": "markdown",
   "metadata": {},
   "source": [
    "⚪ **Creating Track Lyric Table**"
   ]
  },
  {
   "cell_type": "code",
   "execution_count": null,
   "metadata": {},
   "outputs": [],
   "source": []
  },
  {
   "cell_type": "markdown",
   "metadata": {},
   "source": [
    "🟣 **Creating Track Info Table**"
   ]
  },
  {
   "cell_type": "code",
   "execution_count": null,
   "metadata": {},
   "outputs": [],
   "source": []
  },
  {
   "cell_type": "markdown",
   "metadata": {},
   "source": [
    "🔴 **Creating Countries Table**"
   ]
  },
  {
   "cell_type": "code",
   "execution_count": null,
   "metadata": {},
   "outputs": [],
   "source": []
  },
  {
   "cell_type": "markdown",
   "metadata": {},
   "source": [
    "🟢 **Creating Daily Top 200 Table**"
   ]
  },
  {
   "cell_type": "code",
   "execution_count": null,
   "metadata": {},
   "outputs": [],
   "source": []
  },
  {
   "cell_type": "markdown",
   "metadata": {},
   "source": [
    "⚫ **Creating Track Music Table**"
   ]
  },
  {
   "cell_type": "code",
   "execution_count": null,
   "metadata": {},
   "outputs": [],
   "source": []
  },
  {
   "cell_type": "markdown",
   "metadata": {},
   "source": [
    "🟠 **Creating Genre Table**"
   ]
  },
  {
   "cell_type": "code",
   "execution_count": null,
   "metadata": {},
   "outputs": [],
   "source": []
  },
  {
   "cell_type": "markdown",
   "metadata": {},
   "source": [
    "🟡 **Creating Artist Table**"
   ]
  },
  {
   "cell_type": "code",
   "execution_count": null,
   "metadata": {},
   "outputs": [],
   "source": []
  },
  {
   "cell_type": "markdown",
   "metadata": {},
   "source": [
    "🟤 **Creating Album Table**"
   ]
  },
  {
   "cell_type": "code",
   "execution_count": null,
   "metadata": {},
   "outputs": [],
   "source": []
  },
  {
   "cell_type": "markdown",
   "metadata": {},
   "source": [
    "🔵 **Creating Artist_Album Table**"
   ]
  },
  {
   "cell_type": "code",
   "execution_count": null,
   "metadata": {},
   "outputs": [],
   "source": []
  },
  {
   "cell_type": "markdown",
   "metadata": {},
   "source": [
    "🔴 **Creating Artist_Genre Table**"
   ]
  },
  {
   "cell_type": "code",
   "execution_count": null,
   "metadata": {},
   "outputs": [],
   "source": []
  }
 ],
 "metadata": {
  "kernelspec": {
   "display_name": "qenv",
   "language": "python",
   "name": "qenv"
  },
  "language_info": {
   "codemirror_mode": {
    "name": "ipython",
    "version": 3
   },
   "file_extension": ".py",
   "mimetype": "text/x-python",
   "name": "python",
   "nbconvert_exporter": "python",
   "pygments_lexer": "ipython3",
   "version": "3.9.6"
  },
  "orig_nbformat": 4
 },
 "nbformat": 4,
 "nbformat_minor": 2
}
