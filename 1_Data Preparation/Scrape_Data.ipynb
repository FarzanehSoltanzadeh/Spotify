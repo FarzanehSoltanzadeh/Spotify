{
 "cells": [
  {
   "cell_type": "markdown",
   "metadata": {},
   "source": [
    "**Importing Libraries** 📚"
   ]
  },
  {
   "cell_type": "code",
   "execution_count": 1,
   "metadata": {},
   "outputs": [],
   "source": [
    "import time\n",
    "import spotipy\n",
    "import pandas as pd\n",
    "from spotipy.oauth2 import SpotifyOAuth"
   ]
  },
  {
   "cell_type": "markdown",
   "metadata": {},
   "source": [
    "**Getting list of all Artists ID's and Album ID's** 💳"
   ]
  },
  {
   "cell_type": "code",
   "execution_count": null,
   "metadata": {},
   "outputs": [],
   "source": [
    "track_info_df = pd.read_csv(\"Spotify Data/track_info.csv\")\n",
    "all_album_id_list = track_info_df[\"album_id\"].unique().tolist()\n",
    "all_artist_id_list = track_info_df[\"artist_id\"].unique().tolist()"
   ]
  },
  {
   "cell_type": "markdown",
   "metadata": {},
   "source": [
    "**Connecting to Spotify and Getting Artists information** 🎧"
   ]
  },
  {
   "cell_type": "code",
   "execution_count": null,
   "metadata": {},
   "outputs": [],
   "source": [
    "client_id = \"Your Client ID\"\n",
    "client_secret = \"Your Client Secret\"\n",
    "redirect_uri = \"http://localhost:8080\"\n",
    "\n",
    "sp = spotipy.Spotify(auth_manager = SpotifyOAuth(client_id, client_secret, redirect_uri))\n",
    "\n",
    "# Number of artists to process in each batch\n",
    "batch_size = 50\n",
    "artist_info_list = []\n",
    "\n",
    "for i in range(0, len(all_artist_id_list), batch_size):\n",
    "    batch_ids = all_artist_id_list[i : i + batch_size]\n",
    "    try:\n",
    "        artists = sp.artists(batch_ids)[\"artists\"]\n",
    "        for artist in artists:\n",
    "            artist_id = artist[\"id\"]\n",
    "            name = artist[\"name\"]\n",
    "            artist_type = artist[\"type\"]\n",
    "            popularity = artist[\"popularity\"]\n",
    "            genres = artist[\"genres\"]\n",
    "            followers = artist[\"followers\"][\"total\"]\n",
    "            artist_info = {\n",
    "                \"artist_id\": artist_id,\n",
    "                \"Name\": name,\n",
    "                \"Type\": artist_type,\n",
    "                \"Popularity\": popularity,\n",
    "                \"Genres\": \", \".join(genres),\n",
    "                \"Followers\": followers\n",
    "            }\n",
    "            artist_info_list.append(artist_info)\n",
    "    except Exception as e:\n",
    "        print(i)\n",
    "    \n",
    "    # A small delay to avoid hitting rate limits\n",
    "    time.sleep(1)\n",
    "\n",
    "artist_df = pd.DataFrame(artist_info_list)\n",
    "artist_df.to_csv(\"artists.csv\", index = False)"
   ]
  },
  {
   "cell_type": "markdown",
   "metadata": {},
   "source": [
    "**Connecting to Spotify and Getting Albums information** 🎧"
   ]
  },
  {
   "cell_type": "code",
   "execution_count": null,
   "metadata": {},
   "outputs": [],
   "source": [
    "client_id = \"Your Client ID\"\n",
    "client_secret = \"Your Client Secret\"\n",
    "redirect_uri = \"http://localhost:8080\"\n",
    "\n",
    "sp = spotipy.Spotify(auth_manager = SpotifyOAuth(client_id, client_secret, redirect_uri))\n",
    "\n",
    "# Number of albums to process in each batch\n",
    "batch_size = 20\n",
    "album_info_list = []\n",
    "\n",
    "for i in range(0, len(all_album_id_list), batch_size):\n",
    "    batch_ids = all_album_id_list[i : i + batch_size]\n",
    "    try:\n",
    "        albums = sp.albums(batch_ids)[\"albums\"]\n",
    "        for album in albums:\n",
    "            album_id = album[\"id\"]\n",
    "            name = album[\"name\"]\n",
    "            release_date = album[\"release_date\"]\n",
    "            total_tracks = album[\"total_tracks\"]\n",
    "            popularity = album[\"popularity\"]\n",
    "            artists = \", \".join([artist[\"name\"] for artist in album[\"artists\"]])\n",
    "            album_info = {\n",
    "                \"album_id\": album_id,\n",
    "                \"Name\": name,\n",
    "                \"Release Date\": release_date,\n",
    "                \"Total Tracks\": total_tracks,\n",
    "                \"Popularity\": popularity,\n",
    "                \"Artists\": artists\n",
    "            }\n",
    "            album_info_list.append(album_info)\n",
    "        print(i)\n",
    "            \n",
    "    except Exception as e:\n",
    "        print(i)\n",
    "    \n",
    "    # A small delay to avoid hitting rate limits\n",
    "    time.sleep(1)\n",
    "\n",
    "album_df = pd.DataFrame(album_info_list)\n",
    "album_df.to_csv(\"albums.csv\", index = False)"
   ]
  }
 ],
 "metadata": {
  "kernelspec": {
   "display_name": "qenv",
   "language": "python",
   "name": "qenv"
  },
  "language_info": {
   "codemirror_mode": {
    "name": "ipython",
    "version": 3
   },
   "file_extension": ".py",
   "mimetype": "text/x-python",
   "name": "python",
   "nbconvert_exporter": "python",
   "pygments_lexer": "ipython3",
   "version": "3.9.6"
  },
  "orig_nbformat": 4
 },
 "nbformat": 4,
 "nbformat_minor": 2
}
